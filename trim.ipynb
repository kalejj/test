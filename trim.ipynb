{
 "cells": [
  {
   "cell_type": "code",
   "execution_count": 22,
   "metadata": {},
   "outputs": [],
   "source": [
    "import pandas as pd\n",
    "import numpy as np\n",
    "\n",
    "from unicode import join_jamos\n",
    "from jamo import j2hcj\n",
    "import textgrid\n",
    "\n",
    "from tqdm import tqdm\n",
    "from glob import glob\n",
    "\n",
    "import librosa\n",
    "import soundfile as sf"
   ]
  },
  {
   "cell_type": "code",
   "execution_count": 23,
   "metadata": {},
   "outputs": [
    {
     "name": "stderr",
     "output_type": "stream",
     "text": [
      "100%|██████████| 3868/3868 [00:18<00:00, 204.48it/s]\n"
     ]
    }
   ],
   "source": [
    "wavs = glob('data/kss/*.wav')\n",
    "textgrids = glob('TextGrid/*.TextGrid')\n",
    "\n",
    "for i in tqdm(range(len(wavs))):\n",
    "    wav = librosa.load(wavs[i], sr = 22050)[0]\n",
    "    grid = textgrid.TextGrid.fromFile(f\"TextGrid/{wavs[i].split('/')[-1].split('.')[0]}.TextGrid\")\n",
    "    pha = grid[1]\n",
    "    if pha[0].mark == '':\n",
    "        dur = pha[0].duration()\n",
    "        wav = wav[round(dur * 22050):]\n",
    "    else:\n",
    "        pass\n",
    "    sf.write(wavs[i], wav, 22050)"
   ]
  },
  {
   "cell_type": "code",
   "execution_count": null,
   "metadata": {},
   "outputs": [],
   "source": [
    "df = pd.read_csv('data/transcript.v.1.4.txt', sep = '|', header = None)\n",
    "df.columns = ['name', 'sentence1', 'sentence2', 'jamo', 'length']\n",
    "df = df.set_index('name')\n",
    "textgrid_path = glob('TextGrid/*')\n",
    "\n",
    "for i in tqdm(range(len(textgrid_path))):\n",
    "    text_grid = textgrid.TextGrid.fromFile(textgrid_path[i])\n",
    "    \n",
    "    pha = text_grid[1]\n",
    "    phs = []\n",
    "    for iterator, interval in enumerate(pha.intervals):\n",
    "        if interval.mark == \"\":\n",
    "            interval.mark = \" \"\n",
    "        mark = interval.mark\n",
    "        phs.append(mark)\n",
    "\n",
    "    x = join_jamos(j2hcj(\"\".join(phs)))\n",
    "    x = x.strip()\n",
    "    a = df.loc[textgrid_path[i].split('/')[-1].replace('TextGrid', 'wav')]['sentence2']\n",
    "    df['sentence2'] = df['sentence2'].replace(a, x)\n",
    "df"
   ]
  },
  {
   "cell_type": "code",
   "execution_count": null,
   "metadata": {},
   "outputs": [],
   "source": [
    "df.reset_index(inplace = True)\n",
    "df.to_csv('data/transcript.v.1.4.txt', sep = '|', header = None, index = False)"
   ]
  },
  {
   "cell_type": "code",
   "execution_count": null,
   "metadata": {},
   "outputs": [],
   "source": [
    "data = glob('dump/train/fix_dur/*')\n",
    "\n",
    "for i in range(len(data)):\n",
    "    a = len(np.load(data[i]))\n",
    "    b = len(np.load(f\"dump/train/ids/{data[i].split('/')[-1].split('-')[0]}-ids.npy\"))\n",
    "    if a == b:\n",
    "        pass\n",
    "    else:\n",
    "        print(data[i])"
   ]
  }
 ],
 "metadata": {
  "interpreter": {
   "hash": "89e87ab1524b70defcbf5212787be368d9ba690b0076dbbc3b5d571f481291fe"
  },
  "kernelspec": {
   "display_name": "Python 3.7.10 64-bit ('sg_tensorflowTTS_new': conda)",
   "language": "python",
   "name": "python3"
  },
  "language_info": {
   "codemirror_mode": {
    "name": "ipython",
    "version": 3
   },
   "file_extension": ".py",
   "mimetype": "text/x-python",
   "name": "python",
   "nbconvert_exporter": "python",
   "pygments_lexer": "ipython3",
   "version": "3.7.10"
  },
  "orig_nbformat": 4
 },
 "nbformat": 4,
 "nbformat_minor": 2
}
